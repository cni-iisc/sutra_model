{
 "cells": [
  {
   "cell_type": "code",
   "execution_count": 250,
   "metadata": {},
   "outputs": [],
   "source": [
    "from datetime import datetime\n",
    "import matplotlib.pyplot as plt\n",
    "import math\n",
    "import numpy as np\n",
    "import pandas as pd\n",
    "import requests"
   ]
  },
  {
   "cell_type": "code",
   "execution_count": 251,
   "metadata": {},
   "outputs": [],
   "source": [
    "def differentiator(array):\n",
    "    diff_array = []\n",
    "    for i in range(0, len(array)-1):\n",
    "        diff_array.append(array[i+1] - array[i])\n",
    "    return diff_array"
   ]
  },
  {
   "cell_type": "code",
   "execution_count": 252,
   "metadata": {},
   "outputs": [],
   "source": [
    "def phase_plot(phase_num, start_day, num_days, beta, drift, one_by_epsilon, gamma, rho, original_cases_list, previous, detected):\n",
    "    # reach = 0.00001 # 0\n",
    "    if (rho==0):\n",
    "        rho = 0.00001\n",
    "    population = 140 * (10**7)\n",
    "    N = rho * population\n",
    "\n",
    "    total_infections = []\n",
    "\n",
    "    S = np.zeros(num_days)\n",
    "    U = np.zeros(num_days)\n",
    "    T = np.zeros(num_days)\n",
    "    Ru = np.zeros(num_days)\n",
    "    Rt = np.zeros(num_days)\n",
    "    \n",
    "    # bias = 1\n",
    "    T[0] = detected / N\n",
    "    U[0] = 4 * T[0]\n",
    "    Ru[0] = Ru[-1]\n",
    "    Rt[0] = Rt[-1]\n",
    "    S[0] = 1 - T[0] - U[0] - Rt[0] - Ru[0]\n",
    "\n",
    "    for i in range(0, num_days-1):\n",
    "        S[i+1] = S[i] - beta * S[i] * U[i]\n",
    "        U[i+1] = U[i] + (1 - (1/one_by_epsilon)) * beta * S[i] * U[i] - gamma * U[i]\n",
    "        T[i+1] = T[i] + (1/one_by_epsilon) * beta * S[i] * U[i] - gamma * T[i]\n",
    "        Ru[i+1] = Ru[i] + gamma * U[i]\n",
    "        Rt[i+1] = Rt[i] + gamma * T[i]\n",
    "\n",
    "    S = S * N\n",
    "    U = U * N\n",
    "    T = T * N\n",
    "    Ru = Ru * N\n",
    "    Rt = Rt * N\n",
    "\n",
    "    total_infections += (T + Rt).tolist()\n",
    "\n",
    "    plt.plot(S)\n",
    "    plt.plot(U)\n",
    "    plt.plot(T)\n",
    "    plt.plot(Ru)\n",
    "    plt.plot(Rt)\n",
    "    plt.rcParams[\"figure.figsize\"] = (8, 4.5)\n",
    "\n",
    "    predicted = differentiator(total_infections)\n",
    "    predicted = predicted + np.ones(num_days-1) * (1-drift)*previous\n",
    "    plt.clf()\n",
    "    plt.plot(predicted)\n",
    "    plt.title('Phase '+str(phase_num))\n",
    "    plt.plot(original_cases_list[start_day:start_day+num_days])\n",
    "    plt.savefig('Phase '+str(phase_num)+'.png')\n",
    "\n",
    "    return (predicted[-1], T[-1])\n"
   ]
  },
  {
   "cell_type": "code",
   "execution_count": 253,
   "metadata": {},
   "outputs": [
    {
     "name": "stdout",
     "output_type": "stream",
     "text": [
      "Beginning file download with requests\n",
      "200\n",
      "text/csv; charset=UTF-8\n",
      "UTF-8\n"
     ]
    }
   ],
   "source": [
    "print('Beginning file download with requests')\n",
    "\n",
    "url = 'https://covid.ourworldindata.org/data/owid-covid-data.csv'\n",
    "r = requests.get(url)\n",
    "\n",
    "# Retrieve HTTP meta-data\n",
    "print(r.status_code)\n",
    "print(r.headers['content-type'])\n",
    "print(r.encoding)\n",
    "\n",
    "with open('owid-covid-data.csv', 'wb') as f:\n",
    "    f.write(r.content)"
   ]
  },
  {
   "cell_type": "code",
   "execution_count": 254,
   "metadata": {},
   "outputs": [],
   "source": [
    "columns_needed = ['location', 'date', 'total_cases', 'new_cases']\n",
    "covid_data = pd.read_csv(\"owid-covid-data.csv\", parse_dates = ['date'], dayfirst = True, usecols=columns_needed)\n",
    "india_data = covid_data[covid_data.location == 'India'].reset_index(drop=True)\n",
    "dates_list = india_data['date'].tolist()\n",
    "original_cases_list = india_data['new_cases'].tolist()"
   ]
  },
  {
   "cell_type": "code",
   "execution_count": 255,
   "metadata": {},
   "outputs": [
    {
     "data": {
      "image/png": "[encoded data removed]",
      "text/plain": [
       "<Figure size 576x324 with 1 Axes>"
      ]
     },
     "metadata": {
      "needs_background": "light"
     },
     "output_type": "display_data"
    }
   ],
   "source": [
    "plt.plot(dates_list, original_cases_list)\n",
    "plt.title(\"India Daily Cases Plot\")\n",
    "plt.rcParams[\"figure.figsize\"] = (8, 4.5)"
   ]
  },
  {
   "cell_type": "code",
   "execution_count": 256,
   "metadata": {},
   "outputs": [],
   "source": [
    "fixed_gamma = 0.1\n",
    "params = [['02-03-2020', 5, 0.33, 0.002, 37, 0],\\\n",
    "          ['20-03-2020', 0, 0.26, 0.0063, 37, 0.1],\\\n",
    "          ['24-04-2020', 5, 0.16, 0.0041, 37, 4],\\\n",
    "          ['21-06-2020', 30, 0.16, 0.0019, 37, 22.4],\\\n",
    "          ['22-08-2020', 10, 0.15, 0.0012, 37, 45.2],\\\n",
    "          ['02-11-2020', 10, 0.21, 0.0011, 37, 44.3],\\\n",
    "          ['01-01-2021', 10, 0.22, 0.0009, 37, 44.5],\\\n",
    "          ['10-02-2021', 40, 0.39, 0.0008, 37, 54.2],\\\n",
    "          ['29-03-2021', 26, 0.33, 0.0011, 37, 85.3]]"
   ]
  },
  {
   "cell_type": "code",
   "execution_count": 257,
   "metadata": {},
   "outputs": [
    {
     "name": "stdout",
     "output_type": "stream",
     "text": [
      "0.8526931670962155 86.0\n",
      "265.63184062004524 1753.0\n",
      "-432.49506141283905 14933.0\n",
      "19206.615775125785 61408.0\n",
      "-149772.98797769088 46253.0\n",
      "1677989.105609675 18177.0\n",
      "-15075714.896902192 9309.0\n",
      "611423202.5927668 53480.0\n",
      "-15168565702.50282 165553.0\n"
     ]
    },
    {
     "data": {
      "image/png": "[encoded data removed]",
      "text/plain": [
       "<Figure size 576x324 with 1 Axes>"
      ]
     },
     "metadata": {
      "needs_background": "light"
     },
     "output_type": "display_data"
    }
   ],
   "source": [
    "previous = 0\n",
    "detected = 1\n",
    "\n",
    "for i in range(len(params)):\n",
    "    start_date = datetime.strptime(params[i][0], '%d-%m-%Y')\n",
    "    start_day = dates_list.index(start_date)\n",
    "\n",
    "    if (i!=len(params)-1):\n",
    "        end_date = datetime.strptime(params[i+1][0], '%d-%m-%Y')\n",
    "        num_days = (end_date - start_date).days\n",
    "    else:\n",
    "        num_days = 60 \n",
    "    \n",
    "    drift = params[i][1]\n",
    "    beta = params[i][2]\n",
    "    one_by_epsilon = params[i][4]\n",
    "    rho = params[i][5]\n",
    "    \n",
    "    # phase_num, start_day, num_days, beta, drift, one_by_epsilon, gamma, rho, original_cases_list, previous, detected\n",
    "    previous, detected = phase_plot(i, start_day, num_days, beta, drift, one_by_epsilon, fixed_gamma, rho, original_cases_list, previous, detected)\n",
    "    print (previous, detected)\n"
   ]
  },
  {
   "cell_type": "code",
   "execution_count": null,
   "metadata": {},
   "outputs": [],
   "source": []
  }
 ],
 "metadata": {
  "interpreter": {
   "hash": "6e57508d3b062efe4a60fcb7d5f8c06249e6aedec0803b148b515943bae05cc2"
  },
  "kernelspec": {
   "display_name": "Python 3.8.10 64-bit ('master_venv': venv)",
   "language": "python",
   "name": "python3"
  },
  "language_info": {
   "codemirror_mode": {
    "name": "ipython",
    "version": 3
   },
   "file_extension": ".py",
   "mimetype": "text/x-python",
   "name": "python",
   "nbconvert_exporter": "python",
   "pygments_lexer": "ipython3",
   "version": "3.8.10"
  },
  "orig_nbformat": 4
 },
 "nbformat": 4,
 "nbformat_minor": 2
}
